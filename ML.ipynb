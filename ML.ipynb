{
 "cells": [
  {
   "cell_type": "markdown",
   "id": "10982cad-fc3c-4ef1-aa5c-9141adf190ef",
   "metadata": {},
   "source": [
    "# **DENOISING DIFFUSION PROBABILISTIC MODEL (DDPM)**\n",
    "## **TUTORIAL FOR BEGINNERS**"
   ]
  },
  {
   "cell_type": "markdown",
   "id": "4a84edd6-6386-4f49-926c-3efb1909bc29",
   "metadata": {},
   "source": [
    "---------------------------------------------------------------------"
   ]
  },
  {
   "cell_type": "markdown",
   "id": "f57883c0-8828-4f81-9910-05ef3b4ed7ec",
   "metadata": {},
   "source": [
    "### **LEARNING OUTCOMES**"
   ]
  },
  {
   "cell_type": "markdown",
   "id": "64a0d4f6-62cc-4782-a6c2-b8b56f1d321d",
   "metadata": {},
   "source": [
    "* **Understand the core concepts of Diffusion Models (DDPM), including forward diffusion and reverse denoising.**\n",
    "* **Set up a PyTorch environment with CUDA to leverage GPU acceleration.**\n",
    "* **Load and preprocess image data using the CIFAR-10 dataset and visualize samples.**\n",
    "* **Implement the forward diffusion process, adding noise to images over time using a defined noise schedule.**\n",
    "* **Build a simplified U-Net neural network to predict noise in images at different timesteps.**\n",
    "* **Train the model to learn the reverse diffusion process and reconstruct clean images from noisy ones.**\n",
    "* **Sample new images from pure noise by reversing the diffusion steps with a trained model.**\n",
    "* **Visualize intermediate steps of denoising, observing how noise is gradually removed to form meaningful images.**"
   ]
  },
  {
   "cell_type": "markdown",
   "id": "da8e99f6-d8d0-466d-8194-b19576844df2",
   "metadata": {},
   "source": [
    "#### **CUDA AND PYTORCH INSTALLATION**"
   ]
  },
  {
   "cell_type": "markdown",
   "id": "920ee529-e1de-4b99-a60e-058e351a74dd",
   "metadata": {},
   "source": [
    "First, a chech CUDA supported GPU has to be done (if you have a GPU). You can do that in https://developer.nvidia.com/cuda-gpus"
   ]
  },
  {
   "cell_type": "markdown",
   "id": "2fe87e85-1ff9-4dfd-9e03-d6371b5abdd6",
   "metadata": {},
   "source": [
    "And you can install CUDA from here: https://developer.nvidia.com/cuda-downloads"
   ]
  },
  {
   "cell_type": "code",
   "execution_count": 1,
   "id": "2f1ea708-d2a6-497d-baec-7e1720ff5d81",
   "metadata": {},
   "outputs": [],
   "source": [
    "# Pytorch Installation\n",
    "#pip install torch torchvision torchaudio --index-url https://download.pytorch.org/whl/cu118"
   ]
  },
  {
   "cell_type": "code",
   "execution_count": 2,
   "id": "0f5d194b-a7a9-4de0-8459-0cc191cc225c",
   "metadata": {},
   "outputs": [
    {
     "name": "stdout",
     "output_type": "stream",
     "text": [
      "True\n",
      "NVIDIA GeForce RTX 4070 Laptop GPU\n"
     ]
    }
   ],
   "source": [
    "# Check the installation\n",
    "import torch\n",
    "print(torch.cuda.is_available()) # should print true if its available\n",
    "print(torch.cuda.get_device_name(0)) # should print the GPU name"
   ]
  },
  {
   "cell_type": "markdown",
   "id": "ab0fe0ee-f963-47b5-ad14-2c69416630d0",
   "metadata": {},
   "source": [
    "After ensuring that it got installed, we're going to start building the model."
   ]
  },
  {
   "cell_type": "markdown",
   "id": "054aac63-45af-4c0f-8812-310450c58a3f",
   "metadata": {},
   "source": [
    "### **STEP 1: IMPORTING THE LIBRARIES THAT WE NEED**"
   ]
  },
  {
   "cell_type": "markdown",
   "id": "39096d97-6b15-4c55-bae7-55146459c8e4",
   "metadata": {},
   "source": [
    "All necessary libraries are imported for the project which includes PyTorch and torchvision for datasets and transformations and matplotlib for plotting and standard modules for neural network training and neural networks."
   ]
  },
  {
   "cell_type": "code",
   "execution_count": 3,
   "id": "beeee548-715b-4dec-b6b3-33c6115a77e3",
   "metadata": {},
   "outputs": [],
   "source": [
    "import torch\n",
    "import torchvision\n",
    "import torchvision.transforms as transforms\n",
    "import matplotlib.pyplot as plt\n",
    "import numpy as np\n",
    "import math\n",
    "from torch import nn, optim\n",
    "from torch.utils.data import DataLoader\n",
    "import torch.nn.functional as F\n",
    "from torchvision.utils import make_grid"
   ]
  },
  {
   "cell_type": "markdown",
   "id": "f1524e3c-9a32-447a-b16b-f81e0b933728",
   "metadata": {},
   "source": [
    "### **STEP 2: LOADING AND VISUALIZING CIFAR-10 DATASET**"
   ]
  },
  {
   "cell_type": "markdown",
   "id": "5f3cb390-f0eb-4fb5-80e7-6a6882b6ce89",
   "metadata": {},
   "source": [
    "The CIFAR-10 dataset is loaded in this step through **torchvision.datasets**. The normalization process begins before visualization of sample images allows us to experience the data set. **ToTensor()** converts PIL images to tensors. **Normalize()** scales the pixel values to [-1, 1]. Then, we visualize a batch of images."
   ]
  },
  {
   "cell_type": "code",
   "execution_count": null,
   "id": "0716068d-1615-4087-a408-a69807e4afe9",
   "metadata": {},
   "outputs": [],
   "source": [
    "device = torch.device(\"cuda\" if torch.cuda.is_available() else \"cpu\")\n",
    "transform = transforms.Compose([\n",
    "    transforms.ToTensor(),\n",
    "    transforms.Normalize(mean=[0.5]*3, std=[0.5]*3)\n",
    "])\n",
    "\n",
    "batch_size = 128\n",
    "train_dataset = torchvision.datasets.CIFAR10(root='./data', train=True, download=True, transform=transform)\n",
    "train_loader = DataLoader(train_dataset, batch_size=batch_size, shuffle=True)\n",
    "\n",
    "# visualize some images\n",
    "def show_images(img):\n",
    "    img = img / 2 + 0.5  \n",
    "    npimg = img.numpy()\n",
    "    plt.figure(figsize=(8,4))\n",
    "    plt.imshow(np.transpose(npimg, (1, 2, 0)))\n",
    "    plt.axis('off')\n",
    "    plt.show()\n",
    "\n",
    "# sample visualization\n",
    "dataiter = iter(train_loader)\n",
    "images, labels = next(dataiter)\n",
    "show_images(make_grid(images[:16], nrow=4))\n"
   ]
  },
  {
   "cell_type": "markdown",
   "id": "3db5aec3-173b-43d7-9ee5-21887b8a9042",
   "metadata": {},
   "source": [
    "### **STEP 3: DEFINING THE PROCESSES IN DDPM**"
   ]
  },
  {
   "cell_type": "markdown",
   "id": "fbc0d258-039b-4d5d-bbf2-dc123152ef82",
   "metadata": {},
   "source": [
    "Denoising Diffusion Probabilistic Models (DDPMs) have two processes:\n",
    "* **Forward Diffusion**: It builds up noise throughout the process of image modification.\n",
    "* **Reverse Process**: The neural network process gradually restores the original image by eliminating noise from it."
   ]
  },
  {
   "cell_type": "code",
   "execution_count": 5,
   "id": "2c42a0fd-486b-4048-9a29-e9957a5e096b",
   "metadata": {},
   "outputs": [],
   "source": [
    "def q_sample(x_start, t, noise=None):\n",
    "    if noise is None:\n",
    "        noise = torch.randn_like(x_start)\n",
    "    alphas_cumprod_t = alphas_cumprod[t].to(x_start.device)\n",
    "    sqrt_alpha_cumprod = alphas_cumprod_t.sqrt().reshape(-1, 1, 1, 1)\n",
    "    sqrt_one_minus_alpha_cumprod = (1 - alphas_cumprod_t).sqrt().reshape(-1, 1, 1, 1)\n",
    "    return sqrt_alpha_cumprod * x_start + sqrt_one_minus_alpha_cumprod * noise"
   ]
  },
  {
   "cell_type": "markdown",
   "id": "e622519a-6b09-43e6-a6a9-f3936e85be20",
   "metadata": {},
   "source": [
    "Setting the diffusion schedule with linearly spaced betas"
   ]
  },
  {
   "cell_type": "code",
   "execution_count": 6,
   "id": "c5c9598b-db72-4480-a3c6-415e47cd900b",
   "metadata": {},
   "outputs": [],
   "source": [
    "T = 1000\n",
    "betas = torch.linspace(1e-4, 0.02, T).cuda()\n",
    "alphas = 1 - betas\n",
    "alphas_cumprod = torch.cumprod(alphas, dim=0)"
   ]
  },
  {
   "cell_type": "markdown",
   "id": "7481fe30-b6a3-44c1-9997-74c47a26d8d7",
   "metadata": {},
   "source": [
    "### **STEP 4: BUILDING THE DENOISING NEURAL NETWORK**"
   ]
  },
  {
   "cell_type": "markdown",
   "id": "975cb3c3-7110-4fdd-8762-1118a25f04f7",
   "metadata": {},
   "source": [
    "We will define a simple U-Net-style model to predict the noise at each timestep"
   ]
  },
  {
   "attachments": {
    "675e6277-0817-4712-84f3-925e51e659d6.png": {
     "image/png": "[encoded data removed]"
    }
   },
   "cell_type": "markdown",
   "id": "36267ecb-6f66-4978-9b4d-2fee0602be1d",
   "metadata": {},
   "source": [
    "![Architecture-of-neural-network-used-for-post-denoising-The-number-of-channels-is-denoted.png](attachment:675e6277-0817-4712-84f3-925e51e659d6.png)"
   ]
  },
  {
   "cell_type": "markdown",
   "id": "ab6b1a2e-aef6-421f-aa3e-73885a1940d1",
   "metadata": {},
   "source": [
    "* **Down**: Two convolutional layers with ReLU followed by max pooling.\n",
    "* **Middle**: One convolutional layer.\n",
    "* **Up**: Transpose convolution for upsampling and output layer."
   ]
  },
  {
   "cell_type": "markdown",
   "id": "2b49569e-568c-454a-8a72-52f4171ff99c",
   "metadata": {},
   "source": [
    "This U-Net takes a noisy image and a timestep t and predicts the noise added at that timestep."
   ]
  },
  {
   "cell_type": "code",
   "execution_count": 7,
   "id": "5505a7fe-020a-42fb-826a-1b04bd87ed6a",
   "metadata": {},
   "outputs": [],
   "source": [
    "def get_timestep_embedding(timesteps, dim):\n",
    "    half_dim = dim // 2\n",
    "    emb = math.log(10000) / (half_dim - 1)\n",
    "    emb = torch.exp(torch.arange(half_dim, device=timesteps.device) * -emb)\n",
    "    emb = timesteps[:, None].float() * emb[None, :]\n",
    "    emb = torch.cat([torch.sin(emb), torch.cos(emb)], dim=1)\n",
    "    return emb  \n",
    "\n",
    "class ResidualBlock(nn.Module):\n",
    "    def __init__(self, in_channels, out_channels, time_emb_dim, use_residual=True):\n",
    "        super().__init__()\n",
    "        self.use_residual = use_residual and in_channels == out_channels\n",
    "\n",
    "        self.time_mlp = nn.Sequential(\n",
    "            nn.Linear(time_emb_dim, out_channels)\n",
    "        )\n",
    "\n",
    "        self.block1 = nn.Sequential(\n",
    "            nn.GroupNorm(1, in_channels),  # Instead of 8 groups\n",
    "            nn.SiLU(),\n",
    "            nn.Conv2d(in_channels, out_channels, 3, padding=1)\n",
    "        )\n",
    "\n",
    "\n",
    "        self.block2 = nn.Sequential(\n",
    "            nn.GroupNorm(8, out_channels),\n",
    "            nn.SiLU(),\n",
    "            nn.Conv2d(out_channels, out_channels, 3, padding=1)\n",
    "        )\n",
    "\n",
    "    def forward(self, x, t_emb):\n",
    "        h = self.block1(x)\n",
    "        time_emb = self.time_mlp(t_emb).unsqueeze(-1).unsqueeze(-1)\n",
    "        h = h + time_emb\n",
    "        h = self.block2(h)\n",
    "        return x + h if self.use_residual else h\n",
    "\n",
    "class DDPM_UNet(nn.Module):\n",
    "    def __init__(self, time_emb_dim=256, in_channels=3, base_channels=64):\n",
    "        super().__init__()\n",
    "\n",
    "        self.time_mlp = nn.Sequential(\n",
    "            nn.Linear(time_emb_dim, time_emb_dim),\n",
    "            nn.SiLU(),\n",
    "            nn.Linear(time_emb_dim, time_emb_dim)\n",
    "        )\n",
    "\n",
    "        self.conv1 = ResidualBlock(in_channels, base_channels, time_emb_dim)\n",
    "        self.down1 = ResidualBlock(base_channels, base_channels * 2, time_emb_dim)\n",
    "        self.downsample1 = nn.Conv2d(base_channels * 2, base_channels * 2, 4, 2, 1)\n",
    "\n",
    "        self.down2 = ResidualBlock(base_channels * 2, base_channels * 4, time_emb_dim)\n",
    "        self.downsample2 = nn.Conv2d(base_channels * 4, base_channels * 4, 4, 2, 1)\n",
    "\n",
    "        self.middle = ResidualBlock(base_channels * 4, base_channels * 4, time_emb_dim)\n",
    "\n",
    "        self.upsample2 = nn.ConvTranspose2d(base_channels * 4, base_channels * 4, 4, 2, 1)\n",
    "        self.up2 = ResidualBlock(base_channels * 4 + base_channels * 4, base_channels * 2, time_emb_dim)\n",
    "\n",
    "        self.upsample1 = nn.ConvTranspose2d(base_channels * 2, base_channels * 2, 4, 2, 1)\n",
    "        self.up1 = ResidualBlock(base_channels * 2 + base_channels * 2, base_channels, time_emb_dim)\n",
    "\n",
    "        self.final = nn.Sequential(\n",
    "            nn.GroupNorm(8, base_channels),\n",
    "            nn.SiLU(),\n",
    "            nn.Conv2d(base_channels, in_channels, 3, padding=1)\n",
    "        )\n",
    "\n",
    "    def forward(self, x, t):\n",
    "        t_emb = get_timestep_embedding(t, self.time_mlp[0].in_features)\n",
    "        t_emb = self.time_mlp(t_emb)\n",
    "        x1 = self.conv1(x, t_emb)\n",
    "        x2 = self.down1(x1, t_emb)\n",
    "        x3 = self.downsample1(x2)\n",
    "        x4 = self.down2(x3, t_emb)\n",
    "        x5 = self.downsample2(x4)\n",
    "        x_mid = self.middle(x5, t_emb)\n",
    "        x = self.upsample2(x_mid)\n",
    "        x = self.up2(torch.cat([x, x4], dim=1), t_emb)\n",
    "        x = self.upsample1(x)\n",
    "        x = self.up1(torch.cat([x, x2], dim=1), t_emb)\n",
    "        return self.final(x)"
   ]
  },
  {
   "cell_type": "code",
   "execution_count": 8,
   "id": "86f4cdd2-846d-47a3-8e18-36998923c60f",
   "metadata": {},
   "outputs": [],
   "source": [
    "def loss_fn(model, x_0, t):\n",
    "    noise = torch.randn_like(x_0)\n",
    "    x_noisy = q_sample(x_0, t, noise)\n",
    "    noise_pred = model(x_noisy, t)\n",
    "    return F.mse_loss(noise_pred, noise)"
   ]
  },
  {
   "cell_type": "markdown",
   "id": "5384437d-185d-4bb0-a158-5763966d347b",
   "metadata": {},
   "source": [
    "### **STEP 5: TRAINING SETUP**"
   ]
  },
  {
   "cell_type": "markdown",
   "id": "01f61ce0-2813-4545-a9e4-178e1203ca73",
   "metadata": {},
   "source": [
    "We use the **Adam optimizer** and **MSE** loss to train the network."
   ]
  },
  {
   "cell_type": "markdown",
   "id": "b8e0843a-a817-4817-8e16-0d8fa7af7f01",
   "metadata": {},
   "source": [
    "During training:\n",
    "* For each image, we sample a timestep **t**\n",
    "* Add noise to the image using the forward diffusion process\n",
    "* Predict the noise using the model\n",
    "* Compute the loss between predicted and actual noise"
   ]
  },
  {
   "cell_type": "code",
   "execution_count": null,
   "id": "61e9746f-bd81-46df-9f33-eba36a1e3d02",
   "metadata": {},
   "outputs": [
    {
     "name": "stdout",
     "output_type": "stream",
     "text": [
      "Epoch [1/100] | Avg Loss: 0.248124\n",
      "Epoch [2/100] | Avg Loss: 0.136299\n",
      "Epoch [3/100] | Avg Loss: 0.110326\n",
      "Epoch [4/100] | Avg Loss: 0.092387\n",
      "Epoch [5/100] | Avg Loss: 0.079975\n",
      "Epoch [6/100] | Avg Loss: 0.068779\n",
      "Epoch [7/100] | Avg Loss: 0.061535\n",
      "Epoch [8/100] | Avg Loss: 0.054485\n",
      "Epoch [9/100] | Avg Loss: 0.050645\n",
      "Epoch [10/100] | Avg Loss: 0.046484\n",
      "Epoch [11/100] | Avg Loss: 0.043806\n",
      "Epoch [12/100] | Avg Loss: 0.042106\n",
      "Epoch [13/100] | Avg Loss: 0.040484\n",
      "Epoch [14/100] | Avg Loss: 0.039375\n"
     ]
    }
   ],
   "source": [
    "model = DDPM_UNet().to(device)\n",
    "optimizer = optim.Adam(model.parameters(), lr=1e-4)\n",
    "num_epochs = 100\n",
    "model.train()\n",
    "\n",
    "for epoch in range(num_epochs):\n",
    "    total_loss = 0.0\n",
    "    for x_0, _ in train_loader:\n",
    "        x_0 = x_0.to(device)\n",
    "        t = torch.randint(0, T, (x_0.size(0),), device=device).long()\n",
    "        noise = torch.randn_like(x_0)\n",
    "        x_noisy = q_sample(x_0, t, noise)\n",
    "        noise_pred = model(x_noisy, t)\n",
    "        loss = F.mse_loss(noise_pred, noise)\n",
    "        optimizer.zero_grad()\n",
    "        loss.backward()\n",
    "        optimizer.step()\n",
    "        total_loss += loss.item()\n",
    "    avg_loss = total_loss / len(train_loader)\n",
    "    print(f\"Epoch [{epoch + 1}/{num_epochs}] | Avg Loss: {avg_loss:.6f}\")"
   ]
  },
  {
   "cell_type": "markdown",
   "id": "04a010d3-4a48-4a2b-84e6-ba3d5dc10e00",
   "metadata": {},
   "source": [
    "### **STEP 6: GENERATING IMAGES FROM NOISE**"
   ]
  },
  {
   "cell_type": "markdown",
   "id": "55aaff5c-c60a-4bf7-8f84-deebe6c7310d",
   "metadata": {},
   "source": [
    "Once the model is trained, we can generate new images from pure noise by reversing the diffusion process."
   ]
  },
  {
   "cell_type": "code",
   "execution_count": null,
   "id": "be132118-a82c-4617-aedd-c9cce53f790d",
   "metadata": {},
   "outputs": [],
   "source": [
    "@torch.no_grad()\n",
    "def sample_image(model, img_size=(1,3,32,32), steps=T):\n",
    "    model.eval()\n",
    "    x = torch.randn(img_size).cuda()\n",
    "    intermediate_images = []\n",
    "\n",
    "    for t in reversed(range(steps)):\n",
    "        t_batch = torch.full((img_size[0],), t, device='cuda', dtype=torch.long)\n",
    "        beta = betas[t]\n",
    "        alpha = alphas[t]\n",
    "        alpha_bar = alphas_cumprod[t]\n",
    "        predicted_noise = model(x, t_batch)\n",
    "        coef_x0 = 1 / torch.sqrt(alpha)\n",
    "        coef_noise = (1 - alpha) / torch.sqrt(1 - alpha_bar)\n",
    "        if t > 0:\n",
    "            noise = torch.randn_like(x).cuda()\n",
    "        else:\n",
    "            noise = torch.zeros_like(x).cuda()\n",
    "        x = coef_x0 * (x - coef_noise * predicted_noise) + torch.sqrt(beta) * noise\n",
    "        intermediate_images.append(x.cpu().detach().clone())\n",
    "    return intermediate_images"
   ]
  },
  {
   "cell_type": "markdown",
   "id": "c519511a-482a-4990-ae57-64eba3a241cc",
   "metadata": {},
   "source": [
    "We iterate from timestep **T-1** to **0**, progressively denoising the image using our trained model. Intermediate images are saved at each step for visualization."
   ]
  },
  {
   "cell_type": "markdown",
   "id": "61585635-ef8c-4fcb-a794-bdeb73be5280",
   "metadata": {},
   "source": [
    "### **STEP 7: VISUALISING DENOISING STEPS**"
   ]
  },
  {
   "cell_type": "markdown",
   "id": "8a94031c-a2b0-4cc4-8e27-e9ead1f9b301",
   "metadata": {},
   "source": [
    "To see how the image gradually forms from noise, we plot a few intermediate steps."
   ]
  },
  {
   "cell_type": "code",
   "execution_count": null,
   "id": "3cc6b3be-77df-4efc-9213-a1408474d554",
   "metadata": {},
   "outputs": [],
   "source": [
    "generated_images = sample_image(model, (1,3,32,32))\n",
    "fig, axes = plt.subplots(1, 10, figsize=(20,2))\n",
    "interval = len(generated_images) // 10\n",
    "\n",
    "for i, ax in enumerate(axes):\n",
    "    img = generated_images[i * interval][0]\n",
    "    img = (img.clamp(-1, 1) + 1) / 2  \n",
    "    np_img = img.permute(1,2,0).numpy()\n",
    "    ax.imshow(np_img)\n",
    "    ax.set_title(f'Step {T - (i * interval)}')\n",
    "    ax.axis('off')\n",
    "\n",
    "plt.tight_layout()\n",
    "plt.show()"
   ]
  },
  {
   "cell_type": "markdown",
   "id": "1fce2bd6-7a81-436e-a6f7-d97af0805fb4",
   "metadata": {},
   "source": [
    "Every 100 timesteps (10 total samples), we show the state of the image, illustrating the reverse process in action."
   ]
  },
  {
   "cell_type": "markdown",
   "id": "9c672715-9c60-483f-a17e-a6fca63789d4",
   "metadata": {},
   "source": [
    "### **STEP 8: FINAL VISUALISATION**"
   ]
  },
  {
   "cell_type": "markdown",
   "id": "522209d1-c51d-4b69-a122-aecac99fc1a0",
   "metadata": {},
   "source": [
    "Finally, we display the fully generated image after all timesteps"
   ]
  },
  {
   "cell_type": "code",
   "execution_count": null,
   "id": "e0ef047d-f17e-48f5-8594-498a15d3937c",
   "metadata": {},
   "outputs": [],
   "source": [
    "final_img = generated_images[-1][0].detach()\n",
    "final_img = (final_img.clamp(-1, 1) + 1) / 2\n",
    "plt.imshow(np.transpose(final_img.numpy(), (1,2,0)))\n",
    "plt.title(\"Generated Image\")\n",
    "plt.axis('off')\n",
    "plt.show()"
   ]
  },
  {
   "cell_type": "markdown",
   "id": "e441d9aa-324e-4d6e-ad8e-04cc7ebde080",
   "metadata": {},
   "source": [
    "# **SUMMARY**"
   ]
  },
  {
   "cell_type": "markdown",
   "id": "1f958ce4-231f-4bb7-a813-7d5c421584f8",
   "metadata": {},
   "source": [
    "* **Forward Diffusion (q_sample)**: Images are progressively noised over **T** timesteps using a beta schedule **(alphas_cumprod)**, simulating the diffusion process.\n",
    "* **U-Net Denoising Model (DDPM_UNet)**: A deep residual U-Net with skip connections, GroupNorm, and sinusoidal time embeddings to condition the model on each timestep.\n",
    "* **Training Objective**: The model is trained to predict the added noise using MSE loss.\n",
    "* **Successful Training Loop**: With proper time conditioning and normalization, the model learns to denoise effectively, and the loss steadily decreases.\n",
    "* **Ready for Sampling & Extensions**: The setup is now ready for generating images **(p_sample_loop)**, adding EMA, saving checkpoints, or visualizing denoising steps."
   ]
  },
  {
   "cell_type": "code",
   "execution_count": null,
   "id": "34a439e2-37cb-432d-88ff-1e97f9da8540",
   "metadata": {},
   "outputs": [],
   "source": []
  }
 ],
 "metadata": {
  "kernelspec": {
   "display_name": "Python 3 (ipykernel)",
   "language": "python",
   "name": "python3"
  },
  "language_info": {
   "codemirror_mode": {
    "name": "ipython",
    "version": 3
   },
   "file_extension": ".py",
   "mimetype": "text/x-python",
   "name": "python",
   "nbconvert_exporter": "python",
   "pygments_lexer": "ipython3",
   "version": "3.13.2"
  }
 },
 "nbformat": 4,
 "nbformat_minor": 5
}
